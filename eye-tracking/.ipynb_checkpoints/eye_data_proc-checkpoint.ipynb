{
 "cells": [
  {
   "cell_type": "code",
   "execution_count": 1,
   "metadata": {
    "pycharm": {
     "is_executing": false
    }
   },
   "outputs": [],
   "source": [
    "import pandas as pd\n",
    "import numpy as np\n",
    "import string\n",
    "import re\n",
    "from nltk.stem import LancasterStemmer"
   ]
  },
  {
   "cell_type": "code",
   "execution_count": 3,
   "metadata": {},
   "outputs": [],
   "source": [
    "eye = pd.read_csv(\"../resource/table.txt\",sep=\"\\t\")"
   ]
  },
  {
   "cell_type": "code",
   "execution_count": 17,
   "metadata": {},
   "outputs": [],
   "source": [
    "cols = eye.columns"
   ]
  },
  {
   "cell_type": "code",
   "execution_count": 21,
   "metadata": {},
   "outputs": [
    {
     "data": {
      "text/plain": [
       "'Time to First Fixation_1 .png_Rectangle_N'"
      ]
     },
     "execution_count": 21,
     "metadata": {},
     "output_type": "execute_result"
    }
   ],
   "source": [
    "cols[1]"
   ]
  },
  {
   "cell_type": "code",
   "execution_count": 19,
   "metadata": {},
   "outputs": [],
   "source": [
    "for i in range(len(cols)):\n",
    "    "
   ]
  },
  {
   "cell_type": "code",
   "execution_count": 20,
   "metadata": {},
   "outputs": [],
   "source": [
    "c = imageAmounts(eye)"
   ]
  },
  {
   "cell_type": "code",
   "execution_count": null,
   "metadata": {},
   "outputs": [],
   "source": [
    "def wordMatch(txtNum, recNum, ):\n",
    "    "
   ]
  },
  {
   "cell_type": "code",
   "execution_count": 45,
   "metadata": {},
   "outputs": [],
   "source": [
    "def textProc():\n",
    "    with open(\"../resource/all.txt\") as f:\n",
    "        contents = f.readlines()\n",
    "        f.close()\n",
    "    result = []\n",
    "    stm=LancasterStemmer()\n",
    "    for line in contents:\n",
    "        newLine = []\n",
    "        line = re.sub(r\"\\d+\\.?\\d*\",'numchain',line)\n",
    "        line = re.sub('[^A-Za-z0-9]+', ' ', line)\n",
    "        line = re.sub(\"ur\",'your',line)\n",
    "        line = line.strip().split()\n",
    "        for item in line:\n",
    "            newLine.append(stm.stem(item))\n",
    "        result.append(newLine)\n",
    "    return result\n",
    "        "
   ]
  },
  {
   "cell_type": "code",
   "execution_count": 2,
   "metadata": {},
   "outputs": [],
   "source": [
    "with open(\"../resource/all.txt\") as f:\n",
    "    contents = f.readlines()\n",
    "    f.close()\n",
    "line = contents[40]"
   ]
  },
  {
   "cell_type": "code",
   "execution_count": 3,
   "metadata": {},
   "outputs": [],
   "source": [
    "line = re.sub(r\"\\d+\\.?\\d*\",'numchain',line)\n",
    "line = re.sub('[^A-Za-z0-9]+', ' ', line)\n",
    "line = re.sub(\"ur\",'your',line)\n",
    "line = line.strip().split()"
   ]
  },
  {
   "cell_type": "code",
   "execution_count": 5,
   "metadata": {},
   "outputs": [
    {
     "data": {
      "text/plain": [
       "28"
      ]
     },
     "execution_count": 5,
     "metadata": {},
     "output_type": "execute_result"
    }
   ],
   "source": [
    "len(line)"
   ]
  },
  {
   "cell_type": "code",
   "execution_count": 42,
   "metadata": {},
   "outputs": [],
   "source": [
    "line = line.strip()"
   ]
  },
  {
   "cell_type": "code",
   "execution_count": 44,
   "metadata": {},
   "outputs": [
    {
     "data": {
      "text/plain": [
       "['Think',\n",
       " 'ur',\n",
       " 'smart?',\n",
       " 'Win',\n",
       " '£numchain',\n",
       " 'this',\n",
       " 'week',\n",
       " 'in',\n",
       " 'our',\n",
       " 'weekly',\n",
       " 'quiz',\n",
       " ',',\n",
       " 'text',\n",
       " 'PLAY',\n",
       " 'to',\n",
       " 'numchain',\n",
       " 'now',\n",
       " '!',\n",
       " 'T&Cs',\n",
       " 'WinnersClub',\n",
       " 'PO',\n",
       " 'BOX',\n",
       " 'numchain',\n",
       " ',',\n",
       " 'Mnumchain',\n",
       " 'numchainUZ',\n",
       " '.',\n",
       " 'numchain+',\n",
       " '.',\n",
       " 'GBPnumchain',\n",
       " '.numchain/week']"
      ]
     },
     "execution_count": 44,
     "metadata": {},
     "output_type": "execute_result"
    }
   ],
   "source": [
    "line.split()"
   ]
  },
  {
   "cell_type": "code",
   "execution_count": 6,
   "metadata": {},
   "outputs": [],
   "source": [
    "stm=LancasterStemmer()\n",
    "newLine = []\n",
    "for item in line:\n",
    "    newLine.append(stm.stem(item))"
   ]
  },
  {
   "cell_type": "code",
   "execution_count": 8,
   "metadata": {},
   "outputs": [
    {
     "data": {
      "text/plain": [
       "28"
      ]
     },
     "execution_count": 8,
     "metadata": {},
     "output_type": "execute_result"
    }
   ],
   "source": [
    "len(newLine)"
   ]
  },
  {
   "cell_type": "code",
   "execution_count": null,
   "metadata": {},
   "outputs": [],
   "source": []
  }
 ],
 "metadata": {
  "kernelspec": {
   "display_name": "Python 3",
   "language": "python",
   "name": "python3"
  },
  "language_info": {
   "codemirror_mode": {
    "name": "ipython",
    "version": 3
   },
   "file_extension": ".py",
   "mimetype": "text/x-python",
   "name": "python",
   "nbconvert_exporter": "python",
   "pygments_lexer": "ipython3",
   "version": "3.7.5"
  }
 },
 "nbformat": 4,
 "nbformat_minor": 1
}
